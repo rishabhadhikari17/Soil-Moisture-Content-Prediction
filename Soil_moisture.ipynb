{
 "cells": [
  {
   "cell_type": "code",
   "execution_count": 58,
   "id": "a3f99476",
   "metadata": {},
   "outputs": [],
   "source": [
    "import pandas as pd\n",
    "import numpy as np\n",
    "import seaborn as sns\n",
    "import matplotlib.pyplot as plt"
   ]
  },
  {
   "cell_type": "code",
   "execution_count": 59,
   "id": "956ff2f6",
   "metadata": {},
   "outputs": [
    {
     "data": {
      "text/html": [
       "<div>\n",
       "<style scoped>\n",
       "    .dataframe tbody tr th:only-of-type {\n",
       "        vertical-align: middle;\n",
       "    }\n",
       "\n",
       "    .dataframe tbody tr th {\n",
       "        vertical-align: top;\n",
       "    }\n",
       "\n",
       "    .dataframe thead th {\n",
       "        text-align: right;\n",
       "    }\n",
       "</style>\n",
       "<table border=\"1\" class=\"dataframe\">\n",
       "  <thead>\n",
       "    <tr style=\"text-align: right;\">\n",
       "      <th></th>\n",
       "      <th>Month</th>\n",
       "      <th>Day</th>\n",
       "      <th>avg_pm1</th>\n",
       "      <th>avg_pm2</th>\n",
       "      <th>avg_pm3</th>\n",
       "      <th>avg_am</th>\n",
       "      <th>avg_lum</th>\n",
       "      <th>avg_temp</th>\n",
       "      <th>avg_humd</th>\n",
       "      <th>avg_pres</th>\n",
       "      <th>avg_sm</th>\n",
       "    </tr>\n",
       "  </thead>\n",
       "  <tbody>\n",
       "    <tr>\n",
       "      <th>0</th>\n",
       "      <td>Jul</td>\n",
       "      <td>18</td>\n",
       "      <td>3.548400</td>\n",
       "      <td>5.929200</td>\n",
       "      <td>24.940800</td>\n",
       "      <td>0.0</td>\n",
       "      <td>2208.880000</td>\n",
       "      <td>21.660300</td>\n",
       "      <td>90.785900</td>\n",
       "      <td>92940.33720</td>\n",
       "      <td>7435.450000</td>\n",
       "    </tr>\n",
       "    <tr>\n",
       "      <th>1</th>\n",
       "      <td>Jul</td>\n",
       "      <td>19</td>\n",
       "      <td>3.416827</td>\n",
       "      <td>6.403133</td>\n",
       "      <td>116.188916</td>\n",
       "      <td>0.0</td>\n",
       "      <td>3241.160643</td>\n",
       "      <td>23.232932</td>\n",
       "      <td>85.260723</td>\n",
       "      <td>92980.24438</td>\n",
       "      <td>7292.257028</td>\n",
       "    </tr>\n",
       "    <tr>\n",
       "      <th>2</th>\n",
       "      <td>Jul</td>\n",
       "      <td>20</td>\n",
       "      <td>3.030642</td>\n",
       "      <td>5.580000</td>\n",
       "      <td>132.736096</td>\n",
       "      <td>0.0</td>\n",
       "      <td>3333.941176</td>\n",
       "      <td>23.238877</td>\n",
       "      <td>83.925134</td>\n",
       "      <td>93012.82439</td>\n",
       "      <td>7696.133690</td>\n",
       "    </tr>\n",
       "    <tr>\n",
       "      <th>3</th>\n",
       "      <td>Jul</td>\n",
       "      <td>21</td>\n",
       "      <td>3.091991</td>\n",
       "      <td>5.580000</td>\n",
       "      <td>128.520000</td>\n",
       "      <td>0.0</td>\n",
       "      <td>3523.764706</td>\n",
       "      <td>23.670136</td>\n",
       "      <td>81.513756</td>\n",
       "      <td>93014.88014</td>\n",
       "      <td>7489.737557</td>\n",
       "    </tr>\n",
       "    <tr>\n",
       "      <th>4</th>\n",
       "      <td>Jul</td>\n",
       "      <td>22</td>\n",
       "      <td>3.129000</td>\n",
       "      <td>5.580000</td>\n",
       "      <td>128.520000</td>\n",
       "      <td>0.0</td>\n",
       "      <td>3756.722727</td>\n",
       "      <td>23.031273</td>\n",
       "      <td>83.486409</td>\n",
       "      <td>93053.78677</td>\n",
       "      <td>7407.200000</td>\n",
       "    </tr>\n",
       "  </tbody>\n",
       "</table>\n",
       "</div>"
      ],
      "text/plain": [
       "  Month  Day   avg_pm1   avg_pm2     avg_pm3  avg_am      avg_lum   avg_temp  \\\n",
       "0   Jul   18  3.548400  5.929200   24.940800     0.0  2208.880000  21.660300   \n",
       "1   Jul   19  3.416827  6.403133  116.188916     0.0  3241.160643  23.232932   \n",
       "2   Jul   20  3.030642  5.580000  132.736096     0.0  3333.941176  23.238877   \n",
       "3   Jul   21  3.091991  5.580000  128.520000     0.0  3523.764706  23.670136   \n",
       "4   Jul   22  3.129000  5.580000  128.520000     0.0  3756.722727  23.031273   \n",
       "\n",
       "    avg_humd     avg_pres       avg_sm  \n",
       "0  90.785900  92940.33720  7435.450000  \n",
       "1  85.260723  92980.24438  7292.257028  \n",
       "2  83.925134  93012.82439  7696.133690  \n",
       "3  81.513756  93014.88014  7489.737557  \n",
       "4  83.486409  93053.78677  7407.200000  "
      ]
     },
     "execution_count": 59,
     "metadata": {},
     "output_type": "execute_result"
    }
   ],
   "source": [
    "df=pd.read_csv(r\"D:\\soil_moisture\\soil-moisture.csv\")\n",
    "df.head()"
   ]
  },
  {
   "cell_type": "code",
   "execution_count": 60,
   "id": "d9c8b743",
   "metadata": {},
   "outputs": [
    {
     "name": "stdout",
     "output_type": "stream",
     "text": [
      "<class 'pandas.core.frame.DataFrame'>\n",
      "RangeIndex: 224 entries, 0 to 223\n",
      "Data columns (total 11 columns):\n",
      " #   Column    Non-Null Count  Dtype  \n",
      "---  ------    --------------  -----  \n",
      " 0   Month     224 non-null    object \n",
      " 1   Day       224 non-null    int64  \n",
      " 2   avg_pm1   224 non-null    float64\n",
      " 3   avg_pm2   224 non-null    float64\n",
      " 4   avg_pm3   224 non-null    float64\n",
      " 5   avg_am    224 non-null    float64\n",
      " 6   avg_lum   224 non-null    float64\n",
      " 7   avg_temp  224 non-null    float64\n",
      " 8   avg_humd  224 non-null    float64\n",
      " 9   avg_pres  224 non-null    float64\n",
      " 10  avg_sm    224 non-null    float64\n",
      "dtypes: float64(9), int64(1), object(1)\n",
      "memory usage: 19.4+ KB\n"
     ]
    }
   ],
   "source": [
    "df.info()"
   ]
  },
  {
   "cell_type": "code",
   "execution_count": 61,
   "id": "ae988017",
   "metadata": {},
   "outputs": [],
   "source": [
    "df[\"Day\"]=df[\"Day\"].astype(object)"
   ]
  },
  {
   "cell_type": "code",
   "execution_count": 62,
   "id": "54c35ca1",
   "metadata": {},
   "outputs": [
    {
     "name": "stdout",
     "output_type": "stream",
     "text": [
      "<class 'pandas.core.frame.DataFrame'>\n",
      "RangeIndex: 224 entries, 0 to 223\n",
      "Data columns (total 11 columns):\n",
      " #   Column    Non-Null Count  Dtype  \n",
      "---  ------    --------------  -----  \n",
      " 0   Month     224 non-null    object \n",
      " 1   Day       224 non-null    object \n",
      " 2   avg_pm1   224 non-null    float64\n",
      " 3   avg_pm2   224 non-null    float64\n",
      " 4   avg_pm3   224 non-null    float64\n",
      " 5   avg_am    224 non-null    float64\n",
      " 6   avg_lum   224 non-null    float64\n",
      " 7   avg_temp  224 non-null    float64\n",
      " 8   avg_humd  224 non-null    float64\n",
      " 9   avg_pres  224 non-null    float64\n",
      " 10  avg_sm    224 non-null    float64\n",
      "dtypes: float64(9), object(2)\n",
      "memory usage: 19.4+ KB\n"
     ]
    }
   ],
   "source": [
    "df.info()"
   ]
  },
  {
   "cell_type": "code",
   "execution_count": 63,
   "id": "e114adb7",
   "metadata": {},
   "outputs": [
    {
     "data": {
      "text/plain": [
       "array(['Month', 'Day', 'avg_pm1', 'avg_pm2', 'avg_pm3', 'avg_am',\n",
       "       'avg_lum', 'avg_temp', 'avg_humd', 'avg_pres', 'avg_sm'],\n",
       "      dtype=object)"
      ]
     },
     "execution_count": 63,
     "metadata": {},
     "output_type": "execute_result"
    }
   ],
   "source": [
    "df.columns.values"
   ]
  },
  {
   "cell_type": "code",
   "execution_count": 64,
   "id": "cee7d410",
   "metadata": {},
   "outputs": [
    {
     "data": {
      "text/plain": [
       "0"
      ]
     },
     "execution_count": 64,
     "metadata": {},
     "output_type": "execute_result"
    }
   ],
   "source": [
    "duplicacies=df.duplicated().sum()\n",
    "duplicacies"
   ]
  },
  {
   "cell_type": "code",
   "execution_count": 65,
   "id": "86faf5e8",
   "metadata": {},
   "outputs": [
    {
     "data": {
      "text/html": [
       "<div>\n",
       "<style scoped>\n",
       "    .dataframe tbody tr th:only-of-type {\n",
       "        vertical-align: middle;\n",
       "    }\n",
       "\n",
       "    .dataframe tbody tr th {\n",
       "        vertical-align: top;\n",
       "    }\n",
       "\n",
       "    .dataframe thead th {\n",
       "        text-align: right;\n",
       "    }\n",
       "</style>\n",
       "<table border=\"1\" class=\"dataframe\">\n",
       "  <thead>\n",
       "    <tr style=\"text-align: right;\">\n",
       "      <th></th>\n",
       "      <th>avg_am</th>\n",
       "      <th>avg_humd</th>\n",
       "      <th>avg_lum</th>\n",
       "      <th>avg_pres</th>\n",
       "      <th>avg_sm</th>\n",
       "      <th>avg_temp</th>\n",
       "    </tr>\n",
       "    <tr>\n",
       "      <th>Month</th>\n",
       "      <th></th>\n",
       "      <th></th>\n",
       "      <th></th>\n",
       "      <th></th>\n",
       "      <th></th>\n",
       "      <th></th>\n",
       "    </tr>\n",
       "  </thead>\n",
       "  <tbody>\n",
       "    <tr>\n",
       "      <th>Aug</th>\n",
       "      <td>2.448426</td>\n",
       "      <td>2837.105751</td>\n",
       "      <td>99858.861586</td>\n",
       "      <td>2.879442e+06</td>\n",
       "      <td>212493.338882</td>\n",
       "      <td>699.240254</td>\n",
       "    </tr>\n",
       "    <tr>\n",
       "      <th>Dec</th>\n",
       "      <td>56.469208</td>\n",
       "      <td>2179.797795</td>\n",
       "      <td>78222.475513</td>\n",
       "      <td>2.893622e+06</td>\n",
       "      <td>12706.723459</td>\n",
       "      <td>662.220165</td>\n",
       "    </tr>\n",
       "    <tr>\n",
       "      <th>Feb</th>\n",
       "      <td>49.587670</td>\n",
       "      <td>1191.597433</td>\n",
       "      <td>55734.644271</td>\n",
       "      <td>2.615010e+06</td>\n",
       "      <td>9416.498504</td>\n",
       "      <td>663.905626</td>\n",
       "    </tr>\n",
       "    <tr>\n",
       "      <th>Jan</th>\n",
       "      <td>26.266954</td>\n",
       "      <td>1235.610521</td>\n",
       "      <td>43007.797605</td>\n",
       "      <td>1.775308e+06</td>\n",
       "      <td>6679.056243</td>\n",
       "      <td>406.144410</td>\n",
       "    </tr>\n",
       "    <tr>\n",
       "      <th>Jul</th>\n",
       "      <td>0.000000</td>\n",
       "      <td>1183.347488</td>\n",
       "      <td>44672.531669</td>\n",
       "      <td>1.302270e+06</td>\n",
       "      <td>99392.676010</td>\n",
       "      <td>327.226616</td>\n",
       "    </tr>\n",
       "    <tr>\n",
       "      <th>Mar</th>\n",
       "      <td>22.169945</td>\n",
       "      <td>336.436791</td>\n",
       "      <td>26503.353221</td>\n",
       "      <td>9.357004e+05</td>\n",
       "      <td>3283.126523</td>\n",
       "      <td>246.054909</td>\n",
       "    </tr>\n",
       "    <tr>\n",
       "      <th>Nov</th>\n",
       "      <td>53.245440</td>\n",
       "      <td>2105.014789</td>\n",
       "      <td>77519.180441</td>\n",
       "      <td>2.801288e+06</td>\n",
       "      <td>21653.086484</td>\n",
       "      <td>659.397076</td>\n",
       "    </tr>\n",
       "    <tr>\n",
       "      <th>Oct</th>\n",
       "      <td>16.307058</td>\n",
       "      <td>2615.550098</td>\n",
       "      <td>84638.910944</td>\n",
       "      <td>2.890691e+06</td>\n",
       "      <td>182501.051931</td>\n",
       "      <td>695.779867</td>\n",
       "    </tr>\n",
       "    <tr>\n",
       "      <th>Sep</th>\n",
       "      <td>0.681818</td>\n",
       "      <td>2671.044692</td>\n",
       "      <td>99604.541831</td>\n",
       "      <td>2.791274e+06</td>\n",
       "      <td>181579.895394</td>\n",
       "      <td>688.834185</td>\n",
       "    </tr>\n",
       "  </tbody>\n",
       "</table>\n",
       "</div>"
      ],
      "text/plain": [
       "          avg_am     avg_humd       avg_lum      avg_pres         avg_sm  \\\n",
       "Month                                                                      \n",
       "Aug     2.448426  2837.105751  99858.861586  2.879442e+06  212493.338882   \n",
       "Dec    56.469208  2179.797795  78222.475513  2.893622e+06   12706.723459   \n",
       "Feb    49.587670  1191.597433  55734.644271  2.615010e+06    9416.498504   \n",
       "Jan    26.266954  1235.610521  43007.797605  1.775308e+06    6679.056243   \n",
       "Jul     0.000000  1183.347488  44672.531669  1.302270e+06   99392.676010   \n",
       "Mar    22.169945   336.436791  26503.353221  9.357004e+05    3283.126523   \n",
       "Nov    53.245440  2105.014789  77519.180441  2.801288e+06   21653.086484   \n",
       "Oct    16.307058  2615.550098  84638.910944  2.890691e+06  182501.051931   \n",
       "Sep     0.681818  2671.044692  99604.541831  2.791274e+06  181579.895394   \n",
       "\n",
       "         avg_temp  \n",
       "Month              \n",
       "Aug    699.240254  \n",
       "Dec    662.220165  \n",
       "Feb    663.905626  \n",
       "Jan    406.144410  \n",
       "Jul    327.226616  \n",
       "Mar    246.054909  \n",
       "Nov    659.397076  \n",
       "Oct    695.779867  \n",
       "Sep    688.834185  "
      ]
     },
     "execution_count": 65,
     "metadata": {},
     "output_type": "execute_result"
    }
   ],
   "source": [
    "pivot=df.pivot_table(index=[\"Month\"],values=[\"avg_sm\",\"avg_lum\",\"avg_humd\",\"avg_pres\",\"avg_temp\",\"avg_am\"],aggfunc=\"sum\")\n",
    "pivot"
   ]
  },
  {
   "cell_type": "code",
   "execution_count": 66,
   "id": "68bb447b",
   "metadata": {},
   "outputs": [],
   "source": [
    "# X=(df.groupby(\"Month\")).agg(Total_avg_sm = (\"avg_sm\",\"sum\"))\n",
    "# X"
   ]
  },
  {
   "cell_type": "code",
   "execution_count": 67,
   "id": "f3f0cd7f",
   "metadata": {},
   "outputs": [
    {
     "name": "stderr",
     "output_type": "stream",
     "text": [
      "C:\\Users\\Rishabh\\anaconda3\\lib\\site-packages\\seaborn\\_decorators.py:36: FutureWarning: Pass the following variable as a keyword arg: x. From version 0.12, the only valid positional argument will be `data`, and passing other arguments without an explicit keyword will result in an error or misinterpretation.\n",
      "  warnings.warn(\n"
     ]
    },
    {
     "data": {
      "image/png": "[encoded data removed]",
      "text/plain": [
       "<Figure size 640x480 with 1 Axes>"
      ]
     },
     "metadata": {},
     "output_type": "display_data"
    }
   ],
   "source": [
    "plt.title(\"Total days of Readings\")\n",
    "sns.countplot(df[\"Month\"])\n",
    "plt.show()"
   ]
  },
  {
   "cell_type": "code",
   "execution_count": 68,
   "id": "ae033089",
   "metadata": {},
   "outputs": [
    {
     "data": {
      "text/html": [
       "<div>\n",
       "<style scoped>\n",
       "    .dataframe tbody tr th:only-of-type {\n",
       "        vertical-align: middle;\n",
       "    }\n",
       "\n",
       "    .dataframe tbody tr th {\n",
       "        vertical-align: top;\n",
       "    }\n",
       "\n",
       "    .dataframe thead th {\n",
       "        text-align: right;\n",
       "    }\n",
       "</style>\n",
       "<table border=\"1\" class=\"dataframe\">\n",
       "  <thead>\n",
       "    <tr style=\"text-align: right;\">\n",
       "      <th></th>\n",
       "      <th>avg_am</th>\n",
       "    </tr>\n",
       "  </thead>\n",
       "  <tbody>\n",
       "    <tr>\n",
       "      <th>25%</th>\n",
       "      <td>0.000000</td>\n",
       "    </tr>\n",
       "    <tr>\n",
       "      <th>50%</th>\n",
       "      <td>1.047947</td>\n",
       "    </tr>\n",
       "    <tr>\n",
       "      <th>75%</th>\n",
       "      <td>1.742388</td>\n",
       "    </tr>\n",
       "  </tbody>\n",
       "</table>\n",
       "</div>"
      ],
      "text/plain": [
       "       avg_am\n",
       "25%  0.000000\n",
       "50%  1.047947\n",
       "75%  1.742388"
      ]
     },
     "execution_count": 68,
     "metadata": {},
     "output_type": "execute_result"
    }
   ],
   "source": [
    "#Quartiles for Avg_am\n",
    "quartiles_avg_am=pd.DataFrame(df[\"avg_am\"].describe()[[\"25%\",\"50%\",\"75%\"]])\n",
    "quartiles_avg_am"
   ]
  },
  {
   "cell_type": "code",
   "execution_count": 69,
   "id": "12f22c64",
   "metadata": {},
   "outputs": [
    {
     "data": {
      "text/html": [
       "<div>\n",
       "<style scoped>\n",
       "    .dataframe tbody tr th:only-of-type {\n",
       "        vertical-align: middle;\n",
       "    }\n",
       "\n",
       "    .dataframe tbody tr th {\n",
       "        vertical-align: top;\n",
       "    }\n",
       "\n",
       "    .dataframe thead th {\n",
       "        text-align: right;\n",
       "    }\n",
       "</style>\n",
       "<table border=\"1\" class=\"dataframe\">\n",
       "  <thead>\n",
       "    <tr style=\"text-align: right;\">\n",
       "      <th></th>\n",
       "      <th>avg_pm1</th>\n",
       "    </tr>\n",
       "  </thead>\n",
       "  <tbody>\n",
       "    <tr>\n",
       "      <th>25%</th>\n",
       "      <td>1.030000</td>\n",
       "    </tr>\n",
       "    <tr>\n",
       "      <th>50%</th>\n",
       "      <td>1.173074</td>\n",
       "    </tr>\n",
       "    <tr>\n",
       "      <th>75%</th>\n",
       "      <td>1.504217</td>\n",
       "    </tr>\n",
       "  </tbody>\n",
       "</table>\n",
       "</div>"
      ],
      "text/plain": [
       "      avg_pm1\n",
       "25%  1.030000\n",
       "50%  1.173074\n",
       "75%  1.504217"
      ]
     },
     "execution_count": 69,
     "metadata": {},
     "output_type": "execute_result"
    }
   ],
   "source": [
    "#Quartiles for Avg_pm1\n",
    "quartiles_avg_pm1=pd.DataFrame(df[\"avg_pm1\"].describe()[[\"25%\",\"50%\",\"75%\"]])\n",
    "quartiles_avg_pm1"
   ]
  },
  {
   "cell_type": "code",
   "execution_count": 70,
   "id": "061fb0cd",
   "metadata": {},
   "outputs": [
    {
     "data": {
      "text/html": [
       "<div>\n",
       "<style scoped>\n",
       "    .dataframe tbody tr th:only-of-type {\n",
       "        vertical-align: middle;\n",
       "    }\n",
       "\n",
       "    .dataframe tbody tr th {\n",
       "        vertical-align: top;\n",
       "    }\n",
       "\n",
       "    .dataframe thead th {\n",
       "        text-align: right;\n",
       "    }\n",
       "</style>\n",
       "<table border=\"1\" class=\"dataframe\">\n",
       "  <thead>\n",
       "    <tr style=\"text-align: right;\">\n",
       "      <th></th>\n",
       "      <th>avg_pm2</th>\n",
       "    </tr>\n",
       "  </thead>\n",
       "  <tbody>\n",
       "    <tr>\n",
       "      <th>25%</th>\n",
       "      <td>1.424875</td>\n",
       "    </tr>\n",
       "    <tr>\n",
       "      <th>50%</th>\n",
       "      <td>1.759600</td>\n",
       "    </tr>\n",
       "    <tr>\n",
       "      <th>75%</th>\n",
       "      <td>2.405481</td>\n",
       "    </tr>\n",
       "  </tbody>\n",
       "</table>\n",
       "</div>"
      ],
      "text/plain": [
       "      avg_pm2\n",
       "25%  1.424875\n",
       "50%  1.759600\n",
       "75%  2.405481"
      ]
     },
     "execution_count": 70,
     "metadata": {},
     "output_type": "execute_result"
    }
   ],
   "source": [
    "#Quartiles for Avg_pm2\n",
    "quartiles_avg_pm2=pd.DataFrame(df[\"avg_pm2\"].describe()[[\"25%\",\"50%\",\"75%\"]])\n",
    "quartiles_avg_pm2"
   ]
  },
  {
   "cell_type": "code",
   "execution_count": 71,
   "id": "ced94168",
   "metadata": {},
   "outputs": [
    {
     "data": {
      "text/html": [
       "<div>\n",
       "<style scoped>\n",
       "    .dataframe tbody tr th:only-of-type {\n",
       "        vertical-align: middle;\n",
       "    }\n",
       "\n",
       "    .dataframe tbody tr th {\n",
       "        vertical-align: top;\n",
       "    }\n",
       "\n",
       "    .dataframe thead th {\n",
       "        text-align: right;\n",
       "    }\n",
       "</style>\n",
       "<table border=\"1\" class=\"dataframe\">\n",
       "  <thead>\n",
       "    <tr style=\"text-align: right;\">\n",
       "      <th></th>\n",
       "      <th>avg_pm3</th>\n",
       "    </tr>\n",
       "  </thead>\n",
       "  <tbody>\n",
       "    <tr>\n",
       "      <th>25%</th>\n",
       "      <td>33.520000</td>\n",
       "    </tr>\n",
       "    <tr>\n",
       "      <th>50%</th>\n",
       "      <td>40.588400</td>\n",
       "    </tr>\n",
       "    <tr>\n",
       "      <th>75%</th>\n",
       "      <td>55.226049</td>\n",
       "    </tr>\n",
       "  </tbody>\n",
       "</table>\n",
       "</div>"
      ],
      "text/plain": [
       "       avg_pm3\n",
       "25%  33.520000\n",
       "50%  40.588400\n",
       "75%  55.226049"
      ]
     },
     "execution_count": 71,
     "metadata": {},
     "output_type": "execute_result"
    }
   ],
   "source": [
    "#Quartiles for Avg_pm3\n",
    "quartiles_avg_pm3=pd.DataFrame(df[\"avg_pm3\"].describe()[[\"25%\",\"50%\",\"75%\"]])\n",
    "quartiles_avg_pm3"
   ]
  },
  {
   "cell_type": "code",
   "execution_count": 72,
   "id": "b9c91df9",
   "metadata": {},
   "outputs": [
    {
     "data": {
      "text/html": [
       "<div>\n",
       "<style scoped>\n",
       "    .dataframe tbody tr th:only-of-type {\n",
       "        vertical-align: middle;\n",
       "    }\n",
       "\n",
       "    .dataframe tbody tr th {\n",
       "        vertical-align: top;\n",
       "    }\n",
       "\n",
       "    .dataframe thead th {\n",
       "        text-align: right;\n",
       "    }\n",
       "</style>\n",
       "<table border=\"1\" class=\"dataframe\">\n",
       "  <thead>\n",
       "    <tr style=\"text-align: right;\">\n",
       "      <th></th>\n",
       "      <th>avg_lum</th>\n",
       "    </tr>\n",
       "  </thead>\n",
       "  <tbody>\n",
       "    <tr>\n",
       "      <th>25%</th>\n",
       "      <td>2126.516601</td>\n",
       "    </tr>\n",
       "    <tr>\n",
       "      <th>50%</th>\n",
       "      <td>2844.347474</td>\n",
       "    </tr>\n",
       "    <tr>\n",
       "      <th>75%</th>\n",
       "      <td>3273.030289</td>\n",
       "    </tr>\n",
       "  </tbody>\n",
       "</table>\n",
       "</div>"
      ],
      "text/plain": [
       "         avg_lum\n",
       "25%  2126.516601\n",
       "50%  2844.347474\n",
       "75%  3273.030289"
      ]
     },
     "execution_count": 72,
     "metadata": {},
     "output_type": "execute_result"
    }
   ],
   "source": [
    "#Quartiles for Avg_lum\n",
    "quartiles_avg_lum=pd.DataFrame(df[\"avg_lum\"].describe()[[\"25%\",\"50%\",\"75%\"]])\n",
    "quartiles_avg_lum"
   ]
  },
  {
   "cell_type": "code",
   "execution_count": 73,
   "id": "4c5ddd33",
   "metadata": {},
   "outputs": [
    {
     "data": {
      "text/html": [
       "<div>\n",
       "<style scoped>\n",
       "    .dataframe tbody tr th:only-of-type {\n",
       "        vertical-align: middle;\n",
       "    }\n",
       "\n",
       "    .dataframe tbody tr th {\n",
       "        vertical-align: top;\n",
       "    }\n",
       "\n",
       "    .dataframe thead th {\n",
       "        text-align: right;\n",
       "    }\n",
       "</style>\n",
       "<table border=\"1\" class=\"dataframe\">\n",
       "  <thead>\n",
       "    <tr style=\"text-align: right;\">\n",
       "      <th></th>\n",
       "      <th>avg_temp</th>\n",
       "    </tr>\n",
       "  </thead>\n",
       "  <tbody>\n",
       "    <tr>\n",
       "      <th>25%</th>\n",
       "      <td>21.756993</td>\n",
       "    </tr>\n",
       "    <tr>\n",
       "      <th>50%</th>\n",
       "      <td>22.744897</td>\n",
       "    </tr>\n",
       "    <tr>\n",
       "      <th>75%</th>\n",
       "      <td>23.551975</td>\n",
       "    </tr>\n",
       "  </tbody>\n",
       "</table>\n",
       "</div>"
      ],
      "text/plain": [
       "      avg_temp\n",
       "25%  21.756993\n",
       "50%  22.744897\n",
       "75%  23.551975"
      ]
     },
     "execution_count": 73,
     "metadata": {},
     "output_type": "execute_result"
    }
   ],
   "source": [
    "#Quartiles for Avg_temp\n",
    "quartiles_avg_temp=pd.DataFrame(df[\"avg_temp\"].describe()[[\"25%\",\"50%\",\"75%\"]])\n",
    "quartiles_avg_temp"
   ]
  },
  {
   "cell_type": "code",
   "execution_count": 74,
   "id": "cb4d5abc",
   "metadata": {},
   "outputs": [
    {
     "data": {
      "text/html": [
       "<div>\n",
       "<style scoped>\n",
       "    .dataframe tbody tr th:only-of-type {\n",
       "        vertical-align: middle;\n",
       "    }\n",
       "\n",
       "    .dataframe tbody tr th {\n",
       "        vertical-align: top;\n",
       "    }\n",
       "\n",
       "    .dataframe thead th {\n",
       "        text-align: right;\n",
       "    }\n",
       "</style>\n",
       "<table border=\"1\" class=\"dataframe\">\n",
       "  <thead>\n",
       "    <tr style=\"text-align: right;\">\n",
       "      <th></th>\n",
       "      <th>avg_humd</th>\n",
       "    </tr>\n",
       "  </thead>\n",
       "  <tbody>\n",
       "    <tr>\n",
       "      <th>25%</th>\n",
       "      <td>62.447063</td>\n",
       "    </tr>\n",
       "    <tr>\n",
       "      <th>50%</th>\n",
       "      <td>77.770424</td>\n",
       "    </tr>\n",
       "    <tr>\n",
       "      <th>75%</th>\n",
       "      <td>88.431701</td>\n",
       "    </tr>\n",
       "  </tbody>\n",
       "</table>\n",
       "</div>"
      ],
      "text/plain": [
       "      avg_humd\n",
       "25%  62.447063\n",
       "50%  77.770424\n",
       "75%  88.431701"
      ]
     },
     "execution_count": 74,
     "metadata": {},
     "output_type": "execute_result"
    }
   ],
   "source": [
    "#Quartiles for Avg_humd\n",
    "quartiles_avg_humd=pd.DataFrame(df[\"avg_humd\"].describe()[[\"25%\",\"50%\",\"75%\"]])\n",
    "quartiles_avg_humd"
   ]
  },
  {
   "cell_type": "code",
   "execution_count": 75,
   "id": "87b9acc3",
   "metadata": {},
   "outputs": [
    {
     "data": {
      "text/html": [
       "<div>\n",
       "<style scoped>\n",
       "    .dataframe tbody tr th:only-of-type {\n",
       "        vertical-align: middle;\n",
       "    }\n",
       "\n",
       "    .dataframe tbody tr th {\n",
       "        vertical-align: top;\n",
       "    }\n",
       "\n",
       "    .dataframe thead th {\n",
       "        text-align: right;\n",
       "    }\n",
       "</style>\n",
       "<table border=\"1\" class=\"dataframe\">\n",
       "  <thead>\n",
       "    <tr style=\"text-align: right;\">\n",
       "      <th></th>\n",
       "      <th>avg_pres</th>\n",
       "    </tr>\n",
       "  </thead>\n",
       "  <tbody>\n",
       "    <tr>\n",
       "      <th>25%</th>\n",
       "      <td>93074.403017</td>\n",
       "    </tr>\n",
       "    <tr>\n",
       "      <th>50%</th>\n",
       "      <td>93266.479530</td>\n",
       "    </tr>\n",
       "    <tr>\n",
       "      <th>75%</th>\n",
       "      <td>93392.489513</td>\n",
       "    </tr>\n",
       "  </tbody>\n",
       "</table>\n",
       "</div>"
      ],
      "text/plain": [
       "         avg_pres\n",
       "25%  93074.403017\n",
       "50%  93266.479530\n",
       "75%  93392.489513"
      ]
     },
     "execution_count": 75,
     "metadata": {},
     "output_type": "execute_result"
    }
   ],
   "source": [
    "#Quartiles for Avg_pres\n",
    "quartiles_avg_pres=pd.DataFrame(df[\"avg_pres\"].describe()[[\"25%\",\"50%\",\"75%\"]])\n",
    "quartiles_avg_pres"
   ]
  },
  {
   "cell_type": "code",
   "execution_count": 76,
   "id": "117870ca",
   "metadata": {},
   "outputs": [
    {
     "data": {
      "text/html": [
       "<div>\n",
       "<style scoped>\n",
       "    .dataframe tbody tr th:only-of-type {\n",
       "        vertical-align: middle;\n",
       "    }\n",
       "\n",
       "    .dataframe tbody tr th {\n",
       "        vertical-align: top;\n",
       "    }\n",
       "\n",
       "    .dataframe thead th {\n",
       "        text-align: right;\n",
       "    }\n",
       "</style>\n",
       "<table border=\"1\" class=\"dataframe\">\n",
       "  <thead>\n",
       "    <tr style=\"text-align: right;\">\n",
       "      <th></th>\n",
       "      <th>avg_sm</th>\n",
       "    </tr>\n",
       "  </thead>\n",
       "  <tbody>\n",
       "    <tr>\n",
       "      <th>25%</th>\n",
       "      <td>370.662698</td>\n",
       "    </tr>\n",
       "    <tr>\n",
       "      <th>50%</th>\n",
       "      <td>908.493421</td>\n",
       "    </tr>\n",
       "    <tr>\n",
       "      <th>75%</th>\n",
       "      <td>6733.553362</td>\n",
       "    </tr>\n",
       "  </tbody>\n",
       "</table>\n",
       "</div>"
      ],
      "text/plain": [
       "          avg_sm\n",
       "25%   370.662698\n",
       "50%   908.493421\n",
       "75%  6733.553362"
      ]
     },
     "execution_count": 76,
     "metadata": {},
     "output_type": "execute_result"
    }
   ],
   "source": [
    "#Quartiles for Avg_sm\n",
    "quartiles_avg_sm=pd.DataFrame(df[\"avg_sm\"].describe()[[\"25%\",\"50%\",\"75%\"]])\n",
    "quartiles_avg_sm"
   ]
  },
  {
   "cell_type": "code",
   "execution_count": 77,
   "id": "ffd88cac",
   "metadata": {},
   "outputs": [
    {
     "data": {
      "text/html": [
       "<div>\n",
       "<style scoped>\n",
       "    .dataframe tbody tr th:only-of-type {\n",
       "        vertical-align: middle;\n",
       "    }\n",
       "\n",
       "    .dataframe tbody tr th {\n",
       "        vertical-align: top;\n",
       "    }\n",
       "\n",
       "    .dataframe thead th {\n",
       "        text-align: right;\n",
       "    }\n",
       "</style>\n",
       "<table border=\"1\" class=\"dataframe\">\n",
       "  <thead>\n",
       "    <tr style=\"text-align: right;\">\n",
       "      <th></th>\n",
       "      <th>avg_pm1</th>\n",
       "      <th>avg_pm2</th>\n",
       "      <th>avg_pm3</th>\n",
       "      <th>avg_am</th>\n",
       "      <th>avg_lum</th>\n",
       "      <th>avg_temp</th>\n",
       "      <th>avg_humd</th>\n",
       "      <th>avg_pres</th>\n",
       "      <th>avg_sm</th>\n",
       "    </tr>\n",
       "  </thead>\n",
       "  <tbody>\n",
       "    <tr>\n",
       "      <th>count</th>\n",
       "      <td>224.000000</td>\n",
       "      <td>224.000000</td>\n",
       "      <td>224.000000</td>\n",
       "      <td>224.000000</td>\n",
       "      <td>224.000000</td>\n",
       "      <td>224.000000</td>\n",
       "      <td>224.000000</td>\n",
       "      <td>224.000000</td>\n",
       "      <td>224.000000</td>\n",
       "    </tr>\n",
       "    <tr>\n",
       "      <th>mean</th>\n",
       "      <td>1.365278</td>\n",
       "      <td>2.134474</td>\n",
       "      <td>49.114740</td>\n",
       "      <td>1.014181</td>\n",
       "      <td>2722.153112</td>\n",
       "      <td>22.539300</td>\n",
       "      <td>73.015649</td>\n",
       "      <td>93234.844591</td>\n",
       "      <td>3257.613631</td>\n",
       "    </tr>\n",
       "    <tr>\n",
       "      <th>std</th>\n",
       "      <td>0.514288</td>\n",
       "      <td>1.032322</td>\n",
       "      <td>22.774731</td>\n",
       "      <td>0.981695</td>\n",
       "      <td>666.311082</td>\n",
       "      <td>1.534203</td>\n",
       "      <td>19.283496</td>\n",
       "      <td>255.194892</td>\n",
       "      <td>3105.998698</td>\n",
       "    </tr>\n",
       "    <tr>\n",
       "      <th>min</th>\n",
       "      <td>0.866522</td>\n",
       "      <td>1.164902</td>\n",
       "      <td>24.940800</td>\n",
       "      <td>0.000000</td>\n",
       "      <td>789.708333</td>\n",
       "      <td>15.612500</td>\n",
       "      <td>29.041698</td>\n",
       "      <td>92472.839310</td>\n",
       "      <td>326.652174</td>\n",
       "    </tr>\n",
       "    <tr>\n",
       "      <th>25%</th>\n",
       "      <td>1.030000</td>\n",
       "      <td>1.424875</td>\n",
       "      <td>33.520000</td>\n",
       "      <td>0.000000</td>\n",
       "      <td>2126.516601</td>\n",
       "      <td>21.756993</td>\n",
       "      <td>62.447063</td>\n",
       "      <td>93074.403017</td>\n",
       "      <td>370.662698</td>\n",
       "    </tr>\n",
       "    <tr>\n",
       "      <th>50%</th>\n",
       "      <td>1.173074</td>\n",
       "      <td>1.759600</td>\n",
       "      <td>40.588400</td>\n",
       "      <td>1.047947</td>\n",
       "      <td>2844.347474</td>\n",
       "      <td>22.744897</td>\n",
       "      <td>77.770424</td>\n",
       "      <td>93266.479530</td>\n",
       "      <td>908.493421</td>\n",
       "    </tr>\n",
       "    <tr>\n",
       "      <th>75%</th>\n",
       "      <td>1.504217</td>\n",
       "      <td>2.405481</td>\n",
       "      <td>55.226049</td>\n",
       "      <td>1.742388</td>\n",
       "      <td>3273.030289</td>\n",
       "      <td>23.551975</td>\n",
       "      <td>88.431701</td>\n",
       "      <td>93392.489513</td>\n",
       "      <td>6733.553362</td>\n",
       "    </tr>\n",
       "    <tr>\n",
       "      <th>max</th>\n",
       "      <td>3.548400</td>\n",
       "      <td>6.403133</td>\n",
       "      <td>132.736096</td>\n",
       "      <td>4.347826</td>\n",
       "      <td>4339.593750</td>\n",
       "      <td>25.733922</td>\n",
       "      <td>99.659029</td>\n",
       "      <td>93814.778100</td>\n",
       "      <td>7696.133690</td>\n",
       "    </tr>\n",
       "  </tbody>\n",
       "</table>\n",
       "</div>"
      ],
      "text/plain": [
       "          avg_pm1     avg_pm2     avg_pm3      avg_am      avg_lum  \\\n",
       "count  224.000000  224.000000  224.000000  224.000000   224.000000   \n",
       "mean     1.365278    2.134474   49.114740    1.014181  2722.153112   \n",
       "std      0.514288    1.032322   22.774731    0.981695   666.311082   \n",
       "min      0.866522    1.164902   24.940800    0.000000   789.708333   \n",
       "25%      1.030000    1.424875   33.520000    0.000000  2126.516601   \n",
       "50%      1.173074    1.759600   40.588400    1.047947  2844.347474   \n",
       "75%      1.504217    2.405481   55.226049    1.742388  3273.030289   \n",
       "max      3.548400    6.403133  132.736096    4.347826  4339.593750   \n",
       "\n",
       "         avg_temp    avg_humd      avg_pres       avg_sm  \n",
       "count  224.000000  224.000000    224.000000   224.000000  \n",
       "mean    22.539300   73.015649  93234.844591  3257.613631  \n",
       "std      1.534203   19.283496    255.194892  3105.998698  \n",
       "min     15.612500   29.041698  92472.839310   326.652174  \n",
       "25%     21.756993   62.447063  93074.403017   370.662698  \n",
       "50%     22.744897   77.770424  93266.479530   908.493421  \n",
       "75%     23.551975   88.431701  93392.489513  6733.553362  \n",
       "max     25.733922   99.659029  93814.778100  7696.133690  "
      ]
     },
     "execution_count": 77,
     "metadata": {},
     "output_type": "execute_result"
    }
   ],
   "source": [
    "df.describe()"
   ]
  },
  {
   "cell_type": "code",
   "execution_count": 78,
   "id": "21e0c2b7",
   "metadata": {},
   "outputs": [
    {
     "name": "stdout",
     "output_type": "stream",
     "text": [
      "(224,)\n"
     ]
    }
   ],
   "source": [
    "X=df.iloc[:,:-1].values\n",
    "Y=df.iloc[:,-1].values\n",
    "print(Y.shape)"
   ]
  },
  {
   "cell_type": "code",
   "execution_count": 79,
   "id": "28739071",
   "metadata": {},
   "outputs": [
    {
     "name": "stdout",
     "output_type": "stream",
     "text": [
      "[['Jul' 18 3.5484 ... 21.6603 90.7859 92940.3372]\n",
      " ['Jul' 19 3.416827309 ... 23.23293173 85.26072289 92980.24438]\n",
      " ['Jul' 20 3.030641711 ... 23.23887701 83.92513369 93012.82439]\n",
      " ...\n",
      " ['Mar' 8 0.879411765 ... 24.85705882 36.37882353 93480.91706]\n",
      " ['Mar' 9 0.894615385 ... 25.28038462 32.51211538 93407.17558]\n",
      " ['Mar' 10 0.866521739 ... 21.22826087 39.66086957 93448.49174]]\n"
     ]
    }
   ],
   "source": [
    "print(X)"
   ]
  },
  {
   "cell_type": "code",
   "execution_count": 80,
   "id": "921e5824",
   "metadata": {},
   "outputs": [
    {
     "name": "stdout",
     "output_type": "stream",
     "text": [
      "[7435.45      7292.257028  7696.13369   7489.737557  7407.2\n",
      " 7073.700461  6778.054945  6920.14359   6543.608911  6540.594872\n",
      " 7156.544118  7243.569832  6887.1       6928.581006  6760.55618\n",
      " 6493.698324  6322.482759  6772.874214  7180.050314  7175.943038\n",
      " 7024.50625   7024.829114  6947.069182  7127.662069  7042.479167\n",
      " 7204.006993  7175.326389  6825.194444  6668.965035  6871.13986\n",
      " 6833.171642  7161.175573  6871.829457  7025.343511  7025.161538\n",
      " 7046.152672  7022.618321  6873.580153  6717.950413  6508.453782\n",
      " 6697.504202  6724.716667  6211.883333  6429.3       6727.714286\n",
      " 6985.9       6854.104348  6984.783784  7085.627273  7136.513761\n",
      " 7128.765766  7182.972973  7183.336364  7198.972477  7186.590909\n",
      " 7166.214953  7185.15534   7232.466019  7214.145631  7222.92233\n",
      " 7184.116505  7161.475728  7151.078431  7109.834951  6995.786408\n",
      " 6849.381443  6595.177083  5926.135417  4537.59375   3437.729167\n",
      " 2731.46875   2228.729167  1792.4375    1436.708333  3493.770833\n",
      " 6196.882979  6271.511111  6347.244444  6367.833333  6374.366667\n",
      " 6338.088889  6252.144444  6140.711111  5833.111111  6052.788889\n",
      " 6351.227273  6416.704545  6431.235294  6436.190476  6525.235294\n",
      " 6508.282353  6518.094118  6576.785714  6575.058824  6691.658824\n",
      " 6724.154762  6754.411765  6751.070588  6648.109756  6496.4\n",
      " 6227.987342  5444.962025  3757.9875    2683.7125    2136.525\n",
      " 1670.575     1361.1375     738.0625     609.125     1019.2375\n",
      "  988.7179487  965.0263158  941.56       919.6973684  897.2894737\n",
      "  870.4459459  843.4189189  816.0526316  786.1842105  755.7368421\n",
      "  726.5263158  699.8933333  670.0657895  641.1232877  615.7361111\n",
      "  593.1666667  572.0555556  559.3611111  545.4305556  530.6527778\n",
      "  519.8333333  509.5633803  501.7638889  493.0277778  485.3611111\n",
      "  477.8333333  468.6666667  464.9558824  462.5942029  456.3235294\n",
      "  448.7536232  440.4492754  431.7794118  426.9230769  420.5897436\n",
      "  417.3970588  415.2753623  413.8405797  413.1692308  414.0923077\n",
      "  411.0757576  407.03125    404.8730159  402.5606061  398.4769231\n",
      "  393.9242424  390.5538462  387.8030303  385.5384615  382.9538462\n",
      "  379.796875   379.2258065  380.8888889  379.7142857  377.6129032\n",
      "  376.2063492  373.6774194  371.2380952  368.9365079  367.1451613\n",
      "  365.5555556  362.8095238  360.4354839  359.0833333  344.7878788\n",
      "  342.5666667  342.2542373  342.3448276  343.3793103  344.9122807\n",
      "  346.2241379  346.2982456  344.3103448  342.3448276  341.9298246\n",
      "  342.5        342.0701754  340.8448276  339.2068966  340.4210526\n",
      "  341.5517241  341.625      341.4363636  340.8035714  340.5454545\n",
      "  340.2909091  339.7636364  339.0181818  338.1071429  335.8727273\n",
      "  333.8909091  332.9464286  332.3272727  332.1636364  332.6071429\n",
      "  332.8        333.5740741  333.5471698  333.3207547  332.5\n",
      "  331.9433962  331.6037736  331.037037   330.6792453  330.1320755\n",
      "  330.0740741  329.1320755  328.5098039  328.3333333  328.1960784\n",
      "  327.9807692  327.0392157  327.0769231  326.6521739]\n"
     ]
    }
   ],
   "source": [
    "print(Y)"
   ]
  },
  {
   "cell_type": "code",
   "execution_count": 81,
   "id": "b4c10e3b",
   "metadata": {},
   "outputs": [
    {
     "name": "stdout",
     "output_type": "stream",
     "text": [
      "[[0.0 0.0 0.0 ... 21.6603 90.7859 92940.3372]\n",
      " [0.0 0.0 0.0 ... 23.23293173 85.26072289 92980.24438]\n",
      " [0.0 0.0 0.0 ... 23.23887701 83.92513369 93012.82439]\n",
      " ...\n",
      " [0.0 0.0 0.0 ... 24.85705882 36.37882353 93480.91706]\n",
      " [0.0 0.0 0.0 ... 25.28038462 32.51211538 93407.17558]\n",
      " [0.0 0.0 0.0 ... 21.22826087 39.66086957 93448.49174]]\n"
     ]
    }
   ],
   "source": [
    "#Encoding the month\n",
    "from sklearn.compose import ColumnTransformer\n",
    "from sklearn.preprocessing import OneHotEncoder\n",
    "ct=ColumnTransformer(transformers=[(\"encoder\",OneHotEncoder(),[0])],remainder=\"passthrough\")\n",
    "X=np.array(ct.fit_transform(X))\n",
    "print(X)"
   ]
  },
  {
   "cell_type": "code",
   "execution_count": 82,
   "id": "8ceceb14",
   "metadata": {},
   "outputs": [
    {
     "name": "stdout",
     "output_type": "stream",
     "text": [
      "[[1.0 0.0 0.0 ... 21.6603 90.7859 92940.3372]\n",
      " [1.0 0.0 0.0 ... 23.23293173 85.26072289 92980.24438]\n",
      " [1.0 0.0 0.0 ... 23.23887701 83.92513369 93012.82439]\n",
      " ...\n",
      " [1.0 0.0 0.0 ... 24.85705882 36.37882353 93480.91706]\n",
      " [1.0 0.0 0.0 ... 25.28038462 32.51211538 93407.17558]\n",
      " [1.0 0.0 0.0 ... 21.22826087 39.66086957 93448.49174]]\n"
     ]
    }
   ],
   "source": [
    "#encoding the day\n",
    "from sklearn.compose import ColumnTransformer\n",
    "from sklearn.preprocessing import OneHotEncoder\n",
    "ct=ColumnTransformer(transformers=[(\"encoder\",OneHotEncoder(),[1])],remainder=\"passthrough\")\n",
    "X=np.array(ct.fit_transform(X))\n",
    "print(X)"
   ]
  },
  {
   "cell_type": "code",
   "execution_count": 83,
   "id": "039d3a28",
   "metadata": {},
   "outputs": [],
   "source": [
    "from sklearn.preprocessing import StandardScaler   #Standardizing the dataset\n",
    "X=StandardScaler().fit_transform(X.astype(float))"
   ]
  },
  {
   "cell_type": "code",
   "execution_count": 84,
   "id": "42eeab32",
   "metadata": {},
   "outputs": [
    {
     "name": "stdout",
     "output_type": "stream",
     "text": [
      "[[ 0.40077645 -0.40077645 -0.40077645 ... -0.57421887  0.92359033\n",
      "  -1.15663358]\n",
      " [ 0.40077645 -0.40077645 -0.40077645 ...  0.45312496  0.63642499\n",
      "  -0.99990412]\n",
      " [ 0.40077645 -0.40077645 -0.40077645 ...  0.4570088   0.56700913\n",
      "  -0.87195102]\n",
      " ...\n",
      " [ 0.40077645 -0.40077645 -0.40077645 ...  1.51410887 -1.90416091\n",
      "   0.96641269]\n",
      " [ 0.40077645 -0.40077645 -0.40077645 ...  1.79065242 -2.10512905\n",
      "   0.6768041 ]\n",
      " [ 0.40077645 -0.40077645 -0.40077645 ... -0.85645452 -1.73357998\n",
      "   0.83906712]]\n"
     ]
    }
   ],
   "source": [
    "print(X)"
   ]
  },
  {
   "cell_type": "code",
   "execution_count": 85,
   "id": "72579285",
   "metadata": {},
   "outputs": [],
   "source": [
    "from sklearn.model_selection import train_test_split   # train test split the dataset\n",
    "X_train,X_test,Y_train,Y_test=train_test_split(X,Y,test_size=0.2,random_state=1)"
   ]
  },
  {
   "cell_type": "code",
   "execution_count": 86,
   "id": "0d8d0db6",
   "metadata": {},
   "outputs": [
    {
     "name": "stdout",
     "output_type": "stream",
     "text": [
      "[[ 0.40077645 -0.40077645 -0.40077645 ...  0.8937665  -1.26694626\n",
      "   0.72960791]\n",
      " [ 0.40077645 -0.40077645 -0.40077645 ... -1.0561408  -0.93196268\n",
      "  -0.32015325]\n",
      " [ 0.40077645 -0.40077645 -0.40077645 ...  1.51410887 -1.90416091\n",
      "   0.96641269]\n",
      " ...\n",
      " [ 0.40077645 -0.40077645 -0.40077645 ...  0.96851327  0.38671209\n",
      "  -0.84643927]\n",
      " [-2.4951566   2.4951566  -0.40077645 ...  0.10687332  0.0051599\n",
      "   0.79140503]\n",
      " [ 0.40077645 -0.40077645  2.4951566  ...  0.43036516  0.79134917\n",
      "  -0.36646107]]\n"
     ]
    }
   ],
   "source": [
    "print(X_train)\n",
    "# print(X_train.shape)"
   ]
  },
  {
   "cell_type": "code",
   "execution_count": 87,
   "id": "cf63674b",
   "metadata": {},
   "outputs": [
    {
     "name": "stdout",
     "output_type": "stream",
     "text": [
      "[ 332.8        342.3448276  327.0392157  519.8333333 6436.190476\n",
      " 6984.783784   331.6037736  332.5       6825.194444  6508.282353\n",
      " 6697.504202   367.1451613  726.5263158  326.6521739  615.7361111\n",
      " 6575.058824   328.5098039  379.7142857 6648.109756   328.1960784\n",
      "  333.5471698  417.3970588 7222.92233    330.1320755  380.8888889\n",
      "  559.3611111  365.5555556 6760.55618    330.0740741 7024.829114\n",
      " 7185.15534    340.8035714 7166.214953   843.4189189 7198.972477\n",
      "  368.9365079  385.5384615 6525.235294   738.0625    6211.883333\n",
      " 6772.874214  7073.700461   373.6774194 6724.154762  7085.627273\n",
      "  346.2982456 6595.177083  2731.46875    338.1071429  379.796875\n",
      " 7186.590909   897.2894737  609.125      328.3333333 6751.070588\n",
      "  816.0526316  988.7179487  339.2068966 6691.658824   327.0769231\n",
      " 6887.1        344.9122807  330.6792453  333.5740741  332.3272727\n",
      "  341.9298246  670.0657895 6252.144444   413.8405797  413.1692308\n",
      " 6928.581006   335.8727273 6140.711111   941.56       404.8730159\n",
      "  333.8909091 6985.9        346.2241379 2683.7125    7022.618321\n",
      "  344.3103448  333.3207547  344.7878788  501.7638889 6196.882979\n",
      "  462.5942029  340.2909091  359.0833333 7696.13369    362.8095238\n",
      " 6778.054945   340.4210526  342.2542373 6347.244444   919.6973684\n",
      " 6849.381443  6854.104348  3493.770833  6576.785714   377.6129032\n",
      " 6431.235294   426.9230769  393.9242424 7156.544118  6871.829457\n",
      "  468.6666667 5833.111111   342.3448276 6227.987342   593.1666667\n",
      " 7127.662069   572.0555556 6540.594872   329.1320755 2136.525\n",
      "  402.5606061  360.4354839  477.8333333  965.0263158  331.9433962\n",
      " 6995.786408  6493.698324  6724.716667   342.5       1019.2375\n",
      " 6338.088889  7183.336364  7175.326389  6271.511111  6429.3\n",
      " 7042.479167  7489.737557   341.625     7136.513761   414.0923077\n",
      "  509.5633803  331.037037  6833.171642   699.8933333  342.5666667\n",
      "  870.4459459  339.0181818 6543.608911  7184.116505   545.4305556\n",
      " 7292.257028  7232.466019  6947.069182  7161.475728  7109.834951\n",
      " 6920.14359    327.9807692  440.4492754 6416.704545  6754.411765\n",
      " 4537.59375   7128.765766   431.7794118  387.8030303  390.5538462\n",
      "  456.3235294  415.2753623 5444.962025  7024.50625    343.3793103\n",
      " 7204.006993   485.3611111 2228.729167   332.6071429  530.6527778\n",
      "  420.5897436  341.4363636 6374.366667   493.0277778  332.1636364\n",
      "  464.9558824 1792.4375     448.7536232 6873.580153 ]\n",
      "(179,)\n"
     ]
    }
   ],
   "source": [
    "print(Y_train)\n",
    "print(Y_train.shape)"
   ]
  },
  {
   "cell_type": "code",
   "execution_count": 88,
   "id": "4ff20c08",
   "metadata": {
    "scrolled": true
   },
   "outputs": [
    {
     "name": "stdout",
     "output_type": "stream",
     "text": [
      "[[ 0.40077645 -0.40077645 -0.40077645 -0.37796447 -0.30443871 -0.25819889\n",
      "  -0.21616885 -0.39324188  2.4951566  -0.39324188 -0.53610373 -0.10063904\n",
      "  -0.04008915 -0.01199036 -1.0354052   0.98986708  0.40214073  1.05168889\n",
      "  -0.28437737]\n",
      " [ 0.40077645 -0.40077645  2.4951566  -0.37796447 -0.30443871 -0.25819889\n",
      "  -0.21616885 -0.39324188 -0.40077645 -0.39324188  0.56359623  0.87926248\n",
      "   0.86226042  0.92228592 -1.0354052   0.55744345  0.03106045  0.95354052\n",
      "  -0.93816826]\n",
      " [ 0.40077645 -0.40077645 -0.40077645 -0.37796447 -0.30443871 -0.25819889\n",
      "  -0.21616885 -0.39324188 -0.40077645  2.54296415  0.78353622  0.04817778\n",
      "   0.09274211  0.10056665 -1.0354052   1.52458234 -0.4696204   0.84182532\n",
      "   0.02899813]\n",
      " [ 0.40077645 -0.40077645 -0.40077645 -0.37796447 -0.30443871 -0.25819889\n",
      "  -0.21616885 -0.39324188  2.4951566  -0.39324188  1.3333862  -0.27921923\n",
      "  -0.28783488 -0.27806657  0.51640466 -0.75498107 -1.02557537  0.08620407\n",
      "   0.45996156]\n",
      " [ 0.40077645 -0.40077645 -0.40077645 -0.37796447 -0.30443871 -0.25819889\n",
      "  -0.21616885 -0.39324188 -0.40077645  2.54296415  1.00347621  0.04817778\n",
      "   0.09274211  0.10056665 -1.0354052   0.51424002  0.61806431  0.54009483\n",
      "  -0.54238749]\n",
      " [ 0.40077645 -0.40077645 -0.40077645 -0.37796447 -0.30443871 -0.25819889\n",
      "  -0.21616885  2.54296415 -0.40077645 -0.39324188 -1.63580368 -0.27921923\n",
      "  -0.28783488 -0.27806657  0.33263771 -1.52697329 -0.7736604  -0.12036644\n",
      "   0.61491562]\n",
      " [ 0.40077645 -0.40077645 -0.40077645 -0.37796447 -0.30443871 -0.25819889\n",
      "  -0.21616885 -0.39324188 -0.40077645  2.54296415  0.23368624  0.2514635\n",
      "   0.24198799  0.26195889 -1.0354052   1.12503015  0.120735    0.90606094\n",
      "  -0.11191129]\n",
      " [ 0.40077645 -0.40077645  2.4951566  -0.37796447 -0.30443871 -0.25819889\n",
      "  -0.21616885 -0.39324188 -0.40077645 -0.39324188  1.1134462   0.60301024\n",
      "   0.63642353  0.67063399 -1.0354052   0.85433581  0.43298425  0.73074855\n",
      "  -0.92109116]\n",
      " [ 0.40077645 -0.40077645 -0.40077645 -0.37796447 -0.30443871 -0.25819889\n",
      "  -0.21616885 -0.39324188 -0.40077645  2.54296415  1.44335619  0.04817778\n",
      "   0.09274211  0.10056665 -1.0354052   0.70329435  0.8317361   0.52224502\n",
      "  -0.9296639 ]\n",
      " [ 0.40077645 -0.40077645 -0.40077645 -0.37796447 -0.30443871  3.87298335\n",
      "  -0.21616885 -0.39324188 -0.40077645 -0.39324188  0.67356622  3.43712654\n",
      "   3.34512201  3.49435957 -1.0354052   1.55616005  0.32138838  0.54420687\n",
      "  -0.71107742]\n",
      " [-2.4951566   2.4951566  -0.40077645 -0.37796447 -0.30443871 -0.25819889\n",
      "  -0.21616885 -0.39324188 -0.40077645 -0.39324188  0.89350621 -0.61501103\n",
      "  -0.60149724 -0.61916551 -0.03018423 -1.15702326 -1.88486262 -0.67416398\n",
      "   0.26379777]\n",
      " [ 0.40077645 -0.40077645 -0.40077645  2.64575131 -0.30443871 -0.25819889\n",
      "  -0.21616885 -0.39324188 -0.40077645 -0.39324188 -1.1959237  -0.76090677\n",
      "  -0.82589201 -0.8048019   0.28828017 -1.44536668  0.75216178 -1.2790412\n",
      "  -0.0089189 ]\n",
      " [-2.4951566   2.4951566  -0.40077645 -0.37796447 -0.30443871 -0.25819889\n",
      "  -0.21616885 -0.39324188 -0.40077645 -0.39324188  0.34365624 -0.61501103\n",
      "  -0.60149724 -0.61916551  1.74151771 -1.11567038 -1.63220017 -0.2054628\n",
      "  -0.05599789]\n",
      " [ 0.40077645 -0.40077645 -0.40077645 -0.37796447 -0.30443871 -0.25819889\n",
      "  -0.21616885  2.54296415 -0.40077645 -0.39324188 -0.20619374 -0.38260776\n",
      "  -0.36509487 -0.37639596  0.6518119   0.5349742  -0.24296928  0.38646106\n",
      "   0.94933925]\n",
      " [ 0.40077645 -0.40077645 -0.40077645 -0.37796447 -0.30443871 -0.25819889\n",
      "  -0.21616885 -0.39324188  2.4951566  -0.39324188  1.66329618 -0.27921923\n",
      "  -0.28783488 -0.27806657  0.58786959 -2.00185595 -1.25691251 -0.33654563\n",
      "   0.39381466]\n",
      " [ 0.40077645 -0.40077645  2.4951566  -0.37796447 -0.30443871 -0.25819889\n",
      "  -0.21616885 -0.39324188 -0.40077645 -0.39324188  0.23368624  0.8270994\n",
      "   0.86468672  0.93236626 -1.0354052   1.14394306  0.20685908  0.8878422\n",
      "  -0.4805236 ]\n",
      " [-2.4951566   2.4951566  -0.40077645 -0.37796447 -0.30443871 -0.25819889\n",
      "  -0.21616885 -0.39324188 -0.40077645 -0.39324188  1.55332619 -0.65338723\n",
      "  -0.70983522 -0.68627226  0.0146917  -0.70052504  0.31236523 -0.54189526\n",
      "   2.27760183]\n",
      " [ 0.40077645 -0.40077645 -0.40077645 -0.37796447 -0.30443871 -0.25819889\n",
      "  -0.21616885 -0.39324188  2.4951566  -0.39324188  0.12371624 -0.20218464\n",
      "  -0.19508923 -0.16702485 -1.0354052   1.18384583  0.07769642  1.11648006\n",
      "   0.47379086]\n",
      " [ 0.40077645 -0.40077645 -0.40077645 -0.37796447 -0.30443871 -0.25819889\n",
      "  -0.21616885 -0.39324188  2.4951566  -0.39324188  1.00347621 -0.27921923\n",
      "  -0.28783488 -0.26759299 -0.43305795 -1.515034   -1.22825055  0.09285024\n",
      "   0.40697913]\n",
      " [-2.4951566   2.4951566  -0.40077645 -0.37796447 -0.30443871 -0.25819889\n",
      "  -0.21616885 -0.39324188 -0.40077645 -0.39324188  1.1134462  -0.67350379\n",
      "  -0.6877038  -0.68468235  0.72981145  0.11478955  0.3388905   0.07810325\n",
      "   0.75791236]\n",
      " [-2.4951566   2.4951566  -0.40077645 -0.37796447 -0.30443871 -0.25819889\n",
      "  -0.21616885 -0.39324188 -0.40077645 -0.39324188 -0.09622375 -0.62976552\n",
      "  -0.60745366 -0.6194355   0.88270109 -1.12705257 -0.47335688 -0.06797787\n",
      "   0.33944961]\n",
      " [ 0.40077645 -0.40077645 -0.40077645 -0.37796447  3.28473343 -0.25819889\n",
      "  -0.21616885 -0.39324188 -0.40077645 -0.39324188 -1.63580368 -0.65338723\n",
      "  -0.70983522 -0.68627226 -0.21866316 -0.40601972 -0.56072742 -0.00540849\n",
      "   1.71865263]\n",
      " [ 0.40077645 -0.40077645 -0.40077645 -0.37796447 -0.30443871 -0.25819889\n",
      "  -0.21616885 -0.39324188 -0.40077645  2.54296415 -0.97598371  0.4168681\n",
      "   0.39152199  0.44780292 -1.0354052   1.66204459  1.20776021  0.70469806\n",
      "  -1.29743328]\n",
      " [ 0.40077645 -0.40077645 -0.40077645  2.64575131 -0.30443871 -0.25819889\n",
      "  -0.21616885 -0.39324188 -0.40077645 -0.39324188 -1.52583369 -0.76090677\n",
      "  -0.80714437 -0.8048019   1.69645608 -1.06717373 -0.46358522 -0.88115365\n",
      "   0.46951763]\n",
      " [ 0.40077645 -0.40077645 -0.40077645 -0.37796447 -0.30443871 -0.25819889\n",
      "  -0.21616885 -0.39324188  2.4951566  -0.39324188 -1.3058937  -0.06095456\n",
      "  -0.0522396  -0.04192688 -1.0354052   0.4142164   1.02992917  0.47646354\n",
      "  -0.64704108]\n",
      " [ 0.40077645 -0.40077645  2.4951566  -0.37796447 -0.30443871 -0.25819889\n",
      "  -0.21616885 -0.39324188 -0.40077645 -0.39324188 -1.1959237   1.53416209\n",
      "   1.53230108  1.61679505 -1.02513171  1.03812377 -0.3432251   1.05318589\n",
      "  -2.32248976]\n",
      " [ 0.40077645 -0.40077645 -0.40077645  2.64575131 -0.30443871 -0.25819889\n",
      "  -0.21616885 -0.39324188 -0.40077645 -0.39324188 -1.63580368 -0.78467425\n",
      "  -0.80385532 -0.80472736  0.78435337 -0.79835964  0.04377927 -0.49936215\n",
      "   0.22880041]\n",
      " [ 0.40077645 -0.40077645  2.4951566  -0.37796447 -0.30443871 -0.25819889\n",
      "  -0.21616885 -0.39324188 -0.40077645 -0.39324188  1.00347621  0.62089706\n",
      "   0.68135587  0.81856244 -1.0354052   0.89485782  0.75311496  0.60829141\n",
      "  -0.67465106]\n",
      " [ 0.40077645 -0.40077645 -0.40077645 -0.37796447 -0.30443871 -0.25819889\n",
      "  -0.21616885  2.54296415 -0.40077645 -0.39324188 -0.31616374 -0.38260776\n",
      "  -0.36509487 -0.37736874  2.00588421  0.32084885  0.45516374 -0.44188078\n",
      "   0.60517469]\n",
      " [ 0.40077645 -0.40077645  2.4951566  -0.37796447 -0.30443871 -0.25819889\n",
      "  -0.21616885 -0.39324188 -0.40077645 -0.39324188  1.66329618  0.61218102\n",
      "   0.63642353  0.66649218 -0.87754749  0.27364089  0.87396496  0.80301856\n",
      "  -1.11816358]\n",
      " [ 0.40077645 -0.40077645  2.4951566  -0.37796447 -0.30443871 -0.25819889\n",
      "  -0.21616885 -0.39324188 -0.40077645 -0.39324188 -1.08595371  1.51248506\n",
      "   1.53108915  1.60808411 -1.01989744  1.0147552  -0.37380489  1.06852458\n",
      "  -2.40555317]\n",
      " [-2.4951566   2.4951566  -0.40077645 -0.37796447 -0.30443871 -0.25819889\n",
      "  -0.21616885 -0.39324188 -0.40077645 -0.39324188  0.01374625 -0.58274353\n",
      "  -0.61234473 -0.6196572   0.81502597 -1.21695615 -0.63963919 -0.5714793\n",
      "   0.13691024]\n",
      " [ 0.40077645 -0.40077645 -0.40077645 -0.37796447 -0.30443871 -0.25819889\n",
      "  -0.21616885  2.54296415 -0.40077645 -0.39324188  0.23368624 -0.46758463\n",
      "  -0.42859624 -0.40212795  0.82184381 -1.09198387 -1.88935493 -0.8329378\n",
      "   0.49996535]\n",
      " [ 0.40077645 -0.40077645  2.4951566  -0.37796447 -0.30443871 -0.25819889\n",
      "  -0.21616885 -0.39324188 -0.40077645 -0.39324188  0.45362623  0.86875297\n",
      "   0.86468672  0.9223959  -1.0354052   0.31660816  0.17319852  1.00254992\n",
      "  -0.61259527]\n",
      " [ 0.40077645 -0.40077645 -0.40077645 -0.37796447 -0.30443871 -0.25819889\n",
      "  -0.21616885 -0.39324188 -0.40077645  2.54296415 -0.20619374  0.23359679\n",
      "   0.240539    0.26182753 -0.87681451  1.17562989 -0.07045015  1.09952082\n",
      "  -0.2349845 ]\n",
      " [ 0.40077645 -0.40077645  2.4951566  -0.37796447 -0.30443871 -0.25819889\n",
      "  -0.21616885 -0.39324188 -0.40077645 -0.39324188  0.67356622  0.86875297\n",
      "   0.86468672  0.9223959  -0.97929315  0.45373949  0.18666275  0.9106671\n",
      "  -1.30430292]\n",
      " [ 0.40077645 -0.40077645 -0.40077645 -0.37796447 -0.30443871  3.87298335\n",
      "  -0.21616885 -0.39324188 -0.40077645 -0.39324188  1.44335619  1.97171139\n",
      "   2.03055632  2.38847243 -1.0354052   0.92840051  1.35877242  0.54801426\n",
      "  -0.57093776]\n",
      " [ 0.40077645 -0.40077645  2.4951566  -0.37796447 -0.30443871 -0.25819889\n",
      "  -0.21616885 -0.39324188 -0.40077645 -0.39324188  0.01374625  1.15094858\n",
      "   1.18010494  1.23197765 -0.94973296  0.2783131  -0.26089377  1.01196652\n",
      "  -0.57670955]\n",
      " [ 0.40077645 -0.40077645 -0.40077645 -0.37796447 -0.30443871  3.87298335\n",
      "  -0.21616885 -0.39324188 -0.40077645 -0.39324188  0.23368624  4.25444978\n",
      "   3.68414621 -1.06381412 -1.0354052  -0.77204578 -0.57421887  0.92359033\n",
      "  -1.15663358]\n",
      " [ 0.40077645 -0.40077645 -0.40077645  2.64575131 -0.30443871 -0.25819889\n",
      "  -0.21616885 -0.39324188 -0.40077645 -0.39324188  0.01374625 -0.80929057\n",
      "  -0.85870037 -0.856578    1.73568384 -1.53192359  0.3084249  -2.16367257\n",
      "   0.39512459]\n",
      " [ 0.40077645 -0.40077645 -0.40077645  2.64575131 -0.30443871 -0.25819889\n",
      "  -0.21616885 -0.39324188 -0.40077645 -0.39324188 -0.75604372 -0.83480202\n",
      "  -0.83645886 -0.856546    0.59807887 -1.01504722  0.83639803 -1.2076865\n",
      "   0.35636184]\n",
      " [ 0.40077645 -0.40077645 -0.40077645  2.64575131 -0.30443871 -0.25819889\n",
      "  -0.21616885 -0.39324188 -0.40077645 -0.39324188 -0.53610373 -0.79511754\n",
      "  -0.85622909 -0.856546    0.49412988 -1.048549    0.80563523 -1.56192211\n",
      "   0.92729711]\n",
      " [ 0.40077645 -0.40077645 -0.40077645 -0.37796447 -0.30443871 -0.25819889\n",
      "  -0.21616885 -0.39324188  2.4951566  -0.39324188 -0.64607372 -0.00638839\n",
      "  -0.02807598 -0.03864105 -1.0354052   0.6933721   0.13619131  1.15400764\n",
      "  -0.03066401]\n",
      " [ 0.40077645 -0.40077645  2.4951566  -0.37796447 -0.30443871 -0.25819889\n",
      "  -0.21616885 -0.39324188 -0.40077645 -0.39324188 -0.09622375  1.15858021\n",
      "   1.18010494  1.23197765 -1.02398223  0.88025129 -0.50922549  1.15707927\n",
      "  -0.65997019]\n",
      " [ 0.40077645 -0.40077645  2.4951566  -0.37796447 -0.30443871 -0.25819889\n",
      "  -0.21616885 -0.39324188 -0.40077645 -0.39324188 -1.41586369  1.84823411\n",
      "   1.89876429  2.07228212 -0.99785384  0.36767556 -0.196648    1.0594674\n",
      "  -2.02189091]]\n"
     ]
    }
   ],
   "source": [
    "print(X_test)\n",
    "# print(X_test.shape)"
   ]
  },
  {
   "cell_type": "code",
   "execution_count": 89,
   "id": "5feab777",
   "metadata": {},
   "outputs": [
    {
     "name": "stdout",
     "output_type": "stream",
     "text": [
      "[6351.227273  7025.161538  5926.135417  3757.9875    3437.729167\n",
      " 1361.1375    7151.078431  6508.453782  1436.708333  7407.2\n",
      "  382.9538462  341.5517241  398.4769231  755.7368421 1670.575\n",
      " 7161.175573   376.2063492 6518.094118  6496.4        379.2258065\n",
      "  411.0757576  371.2380952 7182.972973   340.8448276 6367.833333\n",
      " 7180.050314   342.0701754 6717.950413   786.1842105 6727.714286\n",
      " 7175.943038   407.03125    641.1232877 7025.343511  7214.145631\n",
      " 7046.152672  7243.569832  6871.13986   7435.45       332.9464286\n",
      "  340.5454545  339.7636364 6052.788889  6668.965035  6322.482759 ]\n"
     ]
    }
   ],
   "source": [
    "print(Y_test)"
   ]
  },
  {
   "cell_type": "code",
   "execution_count": 90,
   "id": "b28ece8c",
   "metadata": {},
   "outputs": [],
   "source": [
    "#Linear regression\n",
    "from sklearn.linear_model import LinearRegression\n",
    "regressor=LinearRegression()\n",
    "regressor.fit(X_train,Y_train)\n",
    "y_pred=regressor.predict(X_test)"
   ]
  },
  {
   "cell_type": "code",
   "execution_count": 91,
   "id": "e452f5b4",
   "metadata": {},
   "outputs": [
    {
     "data": {
      "text/plain": [
       "array([6188.55983792, 6712.1535154 , 5942.78770989, 5422.53283585,\n",
       "       5755.14167353, 1184.03366943, 6230.08635002, 6385.64987969,\n",
       "       5657.13513843, 7614.60410869,   86.85532235,  861.62010046,\n",
       "         51.17939603,  920.36441434, 5176.60457188, 6686.23409211,\n",
       "        116.36326383, 6166.67457976, 5559.70702573,  161.33414122,\n",
       "        244.9208908 , 1033.30235472, 6635.83236668,  803.0275927 ,\n",
       "       6416.93908674, 7310.51761015,  926.70410761, 6333.2781819 ,\n",
       "        672.24459319, 6200.81493146, 7223.20340442,  317.59794928,\n",
       "        464.43433461, 6684.21918981, 6301.17640255, 6626.41831097,\n",
       "       6661.95528767, 6755.08929455, 9004.98901588,  229.54423965,\n",
       "        572.54513845,  656.1251049 , 6437.66374347, 6886.27863916,\n",
       "       7222.5860203 ])"
      ]
     },
     "execution_count": 91,
     "metadata": {},
     "output_type": "execute_result"
    }
   ],
   "source": [
    "y_pred"
   ]
  },
  {
   "cell_type": "code",
   "execution_count": 92,
   "id": "7b951cee",
   "metadata": {},
   "outputs": [
    {
     "data": {
      "text/plain": [
       "0.8851249772934366"
      ]
     },
     "execution_count": 92,
     "metadata": {},
     "output_type": "execute_result"
    }
   ],
   "source": [
    "regressor.score(X_test,Y_test)"
   ]
  },
  {
   "cell_type": "code",
   "execution_count": 93,
   "id": "fde167b0",
   "metadata": {},
   "outputs": [
    {
     "data": {
      "text/plain": [
       "array([6300.79568178, 6880.38157628, 5800.58137397, 2264.24275579,\n",
       "       4112.47462122,  950.87734134, 7120.39222717, 6736.88654608,\n",
       "       3050.10469048, 7343.49043451,  393.2101252 ,  341.20154664,\n",
       "        401.15453111,  809.56717701, 2217.60895344, 6899.88982404,\n",
       "        378.01366792, 6540.71103102, 2271.10249774,  382.29685772,\n",
       "        403.39675836,  366.72266791, 7056.05544134,  341.5062058 ,\n",
       "       6063.39403218, 6872.95821394,  341.48797312, 6782.61663942,\n",
       "        733.26541189, 6670.18856914, 6884.21066574,  400.01434118,\n",
       "        620.09949171, 6872.94498543, 7162.65064084, 7000.87219207,\n",
       "       6602.98737638, 6999.49423045, 5904.67819936,  333.97997825,\n",
       "        338.54847237,  338.63309297, 6253.38112405, 6910.45926466,\n",
       "       6794.83360947])"
      ]
     },
     "execution_count": 93,
     "metadata": {},
     "output_type": "execute_result"
    }
   ],
   "source": [
    "# Random Forest Regressor\n",
    "from sklearn.ensemble import RandomForestRegressor\n",
    "reg=RandomForestRegressor(n_estimators=100,random_state=1)\n",
    "reg.fit(X_train,Y_train)\n",
    "y_pred2=reg.predict(X_test)\n",
    "y_pred2"
   ]
  },
  {
   "cell_type": "code",
   "execution_count": 94,
   "id": "526959ec",
   "metadata": {},
   "outputs": [
    {
     "data": {
      "text/plain": [
       "0.9350278592471541"
      ]
     },
     "execution_count": 94,
     "metadata": {},
     "output_type": "execute_result"
    }
   ],
   "source": [
    "reg.score(X_test,Y_test)"
   ]
  },
  {
   "cell_type": "code",
   "execution_count": null,
   "id": "1b910b6a",
   "metadata": {},
   "outputs": [],
   "source": []
  }
 ],
 "metadata": {
  "kernelspec": {
   "display_name": "Python 3 (ipykernel)",
   "language": "python",
   "name": "python3"
  },
  "language_info": {
   "codemirror_mode": {
    "name": "ipython",
    "version": 3
   },
   "file_extension": ".py",
   "mimetype": "text/x-python",
   "name": "python",
   "nbconvert_exporter": "python",
   "pygments_lexer": "ipython3",
   "version": "3.9.13"
  }
 },
 "nbformat": 4,
 "nbformat_minor": 5
}
